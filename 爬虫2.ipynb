{
 "cells": [
  {
   "cell_type": "markdown",
   "metadata": {},
   "source": [
    "#### 第二次爬取(2020.12.2 - 2020.12.3) 共360条评论"
   ]
  },
  {
   "cell_type": "code",
   "execution_count": 1,
   "metadata": {},
   "outputs": [],
   "source": [
    "import requests\n",
    "import time\n",
    "import random"
   ]
  },
  {
   "cell_type": "code",
   "execution_count": 2,
   "metadata": {},
   "outputs": [],
   "source": [
    "def get_json_data(response):\n",
    "    import re\n",
    "    import json\n",
    "    dicts = re.search('\\{.*}',response.text)\n",
    "    json_data = json.loads(dicts.group())\n",
    "    ratedate = []\n",
    "    content = []\n",
    "    sku = []\n",
    "    dict_content = {}\n",
    "    for i in range(len(json_data['comments'])):\n",
    "        ratedate.append(json_data['comments'][i]['date'])\n",
    "        content.append(json_data['comments'][i]['content'])\n",
    "        sku.append(json_data['comments'][i]['auction']['sku'])\n",
    "    dict_content['rateContent'] = content\n",
    "    dict_content['auctionSku'] = sku\n",
    "    dict_content['rateDate'] = ratedate\n",
    "    return dict_content"
   ]
  },
  {
   "cell_type": "code",
   "execution_count": 3,
   "metadata": {},
   "outputs": [],
   "source": [
    "def to_csv(dict_content):\n",
    "    import pandas as pd\n",
    "    import os\n",
    "    df = pd.DataFrame(dict_content)\n",
    "    if not os.path.exists('D:/comments_Mate40Pro.csv'):\n",
    "        df.to_csv('D:/comments_Mate40Pro.csv',mode='a',index=False,encoding='utf-8-sig')\n",
    "    else:\n",
    "        df.to_csv('D:/comments_Mate40Pro.csv',mode='a',header=None,index=False,encoding='utf-8-sig')"
   ]
  },
  {
   "cell_type": "code",
   "execution_count": null,
   "metadata": {},
   "outputs": [],
   "source": [
    "if __name__ == '__main__':\n",
    "    url = 'https://rate.taobao.com/feedRateList.htm'\n",
    "    header = {\n",
    "        'referer':'https://item.taobao.com/item.htm?spm=a230r.1.14.39.30a65974ZrTKwk&id=630368422177&ns=1&abbucket=11',\n",
    "        'user-agent':'Mozilla/5.0',\n",
    "        'cookie':'cna=P8IBGNsi6VoCAXjTPzKux879; sgcookie=E100oFlYoPCLNmMA7OLYJAGay2mIlCTsf2dZtN7wCInYUfgnAWXdYZ3qIq7dO%2FeryW1w50bP6jjW4WQ3gYvU%2FrPboQ%3D%3D; uc3=id2=VyyZF1kqHv7yrA%3D%3D&lg2=VT5L2FSpMGV7TQ%3D%3D&nk2=F5RHpxCBgNC5rVg%3D&vt3=F8dCufONq%2FJP5ydI4QA%3D; lgc=tb264842577; uc4=id4=0%40VXtWCabGLpub5uvBP0evsF9DGVAy&nk4=0%40FY4Mta%2F%2B1bXJBWadpiATIzWP%2BWjDQA%3D%3D; tracknick=tb264842577; _cc_=U%2BGCWk%2F7og%3D%3D; enc=GKWVxMHbSYuEpIV7gOk%2Fbv%2BjptNAG1AnQZP1R%2Fa1PXAvKGdzXfjxP3Z0cUwF0Jof%2BxP3CpxSAPXCPIhNuAdxCg%3D%3D; thw=cn; hng=CN%7Czh-CN%7CCNY%7C156; mt=ci=-1_0; t=b8bab5dbdb305ad265e324f14aeda5fa; _m_h5_tk=8f1025bc8678216d6ca0b1ebd0c2937c_1606900422729; _m_h5_tk_enc=86dcb3f969599bdd010302619edfbb77; xlly_s=1; cookie2=11b11eb2aa6764e9a0d5db5de2402aec; _tb_token_=046a4b5be3e6; v=0; x5sec=7b22726174656d616e616765723b32223a226166396638393536616232663438613630363735376566393764353934383136434d622f6f503446454c446d36375468744f6e676841453d227d; uc1=cookie14=Uoe0az9nDQJPug%3D%3D; tfstk=cOKOBPT6zXcgR4XpUF33lyK9o8bOan3OiXfzDYRw3hznlXE00s0pq3QO-kXRHfDd.; l=eBIcE-bHO4DxuhAvBO5ahurza779uQAfGmFzaNbMiInca1oOMCD9qNQ266dDydtxgt5xVetzYqKWjRhk8V438xTjGO0qOC0eQevwRe1..; isg=BDk52e4sQuDDpB4nA_nXOnPOSKUTRi34BGSDRFtsoWGT4l10o5fFyfp0ZeYUicUw'\n",
    "    }\n",
    "    pageNum = int(input('输入评论页数：'))\n",
    "#     pattern = re.compile(r'\\\"comments\\\":(.*?)(,\\\"currentPageNum)')\n",
    "    for i in range(pageNum):\n",
    "        param = {\n",
    "            'auctionNumId': '630368422177',\n",
    "            'currentPageNum': i+1,\n",
    "            'orderType': 'sort_weight',\n",
    "            'callback': 'jsonp_tbcrate_reviews_list'\n",
    "        }\n",
    "        try:\n",
    "            print('正在获取第',i+1,'页...')\n",
    "            response = requests.get(url,headers=header,params=param)\n",
    "            print('已经获取第',i+1,'页!')\n",
    "            dict_content = get_json_data(response)\n",
    "            to_csv(dict_content)\n",
    "            time.sleep(random.randint(3,8))\n",
    "            if i==17:\n",
    "                print('爬取完成！！！')\n",
    "        except Exception as e:\n",
    "            print('爬取第',i+1,'页时出错！')\n"
   ]
  }
 ],
 "metadata": {
  "kernelspec": {
   "display_name": "Python 3",
   "language": "python",
   "name": "python3"
  },
  "language_info": {
   "codemirror_mode": {
    "name": "ipython",
    "version": 3
   },
   "file_extension": ".py",
   "mimetype": "text/x-python",
   "name": "python",
   "nbconvert_exporter": "python",
   "pygments_lexer": "ipython3",
   "version": "3.7.4"
  }
 },
 "nbformat": 4,
 "nbformat_minor": 2
}
