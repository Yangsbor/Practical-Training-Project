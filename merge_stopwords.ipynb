{
 "cells": [
  {
   "cell_type": "code",
   "execution_count": 22,
   "metadata": {},
   "outputs": [
    {
     "name": "stdout",
     "output_type": "stream",
     "text": [
      "finished\n"
     ]
    }
   ],
   "source": [
    "# -*- coding: utf-8 -*-\n",
    "import os\n",
    "import os.path\n",
    "import chardet\n",
    "\n",
    "def MergeStopwords(filepath,outfile):\n",
    "    k = open(filepath+outfile, 'a+', newline='',encoding='utf-8')\n",
    "    for parent, dirnames, filenames in os.walk(filepath):\n",
    "        for file in filenames:\n",
    "            txtpath = os.path.join(parent, file) #文件夹下所有文件的路径\n",
    "            f = open(txtpath,'rb').read()\n",
    "            k.write(f.decode('utf-8','ignore'))  #对不能用utf-8编码的，忽略\n",
    "    k.close()\n",
    "    print(\"finished\")\n",
    "    \n",
    "if __name__ == '__main__':\n",
    "    filepath=\"./stopwords/\"\n",
    "    outfile=\"my_stopwords.txt\"\n",
    "    MergeStopwords(filepath, outfile)"
   ]
  },
  {
   "cell_type": "code",
   "execution_count": 24,
   "metadata": {},
   "outputs": [
    {
     "name": "stdout",
     "output_type": "stream",
     "text": [
      "7720\n"
     ]
    }
   ],
   "source": [
    "with open('stopwords/my_stopwords.txt','r',encoding='utf-8') as f:\n",
    "    lines = f.readlines()\n",
    "print(len(lines))"
   ]
  },
  {
   "cell_type": "code",
   "execution_count": null,
   "metadata": {},
   "outputs": [],
   "source": []
  }
 ],
 "metadata": {
  "kernelspec": {
   "display_name": "Python 3",
   "language": "python",
   "name": "python3"
  },
  "language_info": {
   "codemirror_mode": {
    "name": "ipython",
    "version": 3
   },
   "file_extension": ".py",
   "mimetype": "text/x-python",
   "name": "python",
   "nbconvert_exporter": "python",
   "pygments_lexer": "ipython3",
   "version": "3.7.4"
  }
 },
 "nbformat": 4,
 "nbformat_minor": 2
}
